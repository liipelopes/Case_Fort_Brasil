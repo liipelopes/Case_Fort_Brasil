{
 "cells": [
  {
   "cell_type": "code",
   "execution_count": 2,
   "metadata": {},
   "outputs": [
    {
     "name": "stdout",
     "output_type": "stream",
     "text": [
      "Total de Linhas df1: 72533\n"
     ]
    },
    {
     "data": {
      "text/plain": [
       "['ID_CONTA',\n",
       " 'DT_ACORDO',\n",
       " 'NU_DIAS_ATRASO',\n",
       " 'VALOR_CRELIQ',\n",
       " 'DIVIDA_ATUAL',\n",
       " 'RESPOSTA']"
      ]
     },
     "execution_count": 2,
     "metadata": {},
     "output_type": "execute_result"
    }
   ],
   "source": [
    "import pandas as pd\n",
    "import numpy as np\n",
    "\n",
    "def count_rows(table):\n",
    "    linhas = table[table.columns[0]].count()\n",
    "    return linhas\n",
    "\n",
    "path = 'E:\\Backup - Felipe\\Documentos\\FortBrasil\\Case Cientista JR\\Questão 2 - Base 1.txt'\n",
    "df1 = pd.read_csv(path, sep=\"\\t\" )\n",
    "#Altera Tipo da Conluna\n",
    "df1['DT_ACORDO'] = df1['DT_ACORDO'].apply(pd.to_datetime, format='%Y-%m-%d')\n",
    "#df1.head()\n",
    "#Verificando a descrição do dataset\n",
    "\n",
    "print('Total de Linhas df1: %s' % count_rows(df1))\n",
    "list(df1.columns)"
   ]
  },
  {
   "cell_type": "code",
   "execution_count": 3,
   "metadata": {},
   "outputs": [
    {
     "name": "stdout",
     "output_type": "stream",
     "text": [
      "Total de Linhas df2: 72533\n"
     ]
    },
    {
     "data": {
      "text/html": [
       "<div>\n",
       "<style scoped>\n",
       "    .dataframe tbody tr th:only-of-type {\n",
       "        vertical-align: middle;\n",
       "    }\n",
       "\n",
       "    .dataframe tbody tr th {\n",
       "        vertical-align: top;\n",
       "    }\n",
       "\n",
       "    .dataframe thead th {\n",
       "        text-align: right;\n",
       "    }\n",
       "</style>\n",
       "<table border=\"1\" class=\"dataframe\">\n",
       "  <thead>\n",
       "    <tr style=\"text-align: right;\">\n",
       "      <th></th>\n",
       "      <th>ID_CONTA</th>\n",
       "      <th>DT_ACORDO</th>\n",
       "      <th>QTD_PARCELAMENTO_3M</th>\n",
       "      <th>QTD_PARCELAMENTO_6M</th>\n",
       "      <th>QTD_PARCELAMENTO_12M</th>\n",
       "    </tr>\n",
       "  </thead>\n",
       "  <tbody>\n",
       "    <tr>\n",
       "      <th>0</th>\n",
       "      <td>1194908</td>\n",
       "      <td>2018-11-22</td>\n",
       "      <td>0</td>\n",
       "      <td>0</td>\n",
       "      <td>0</td>\n",
       "    </tr>\n",
       "    <tr>\n",
       "      <th>1</th>\n",
       "      <td>1427566</td>\n",
       "      <td>2018-11-22</td>\n",
       "      <td>0</td>\n",
       "      <td>0</td>\n",
       "      <td>0</td>\n",
       "    </tr>\n",
       "    <tr>\n",
       "      <th>2</th>\n",
       "      <td>981592</td>\n",
       "      <td>2018-11-22</td>\n",
       "      <td>0</td>\n",
       "      <td>0</td>\n",
       "      <td>1</td>\n",
       "    </tr>\n",
       "    <tr>\n",
       "      <th>3</th>\n",
       "      <td>1329412</td>\n",
       "      <td>2018-11-22</td>\n",
       "      <td>0</td>\n",
       "      <td>0</td>\n",
       "      <td>0</td>\n",
       "    </tr>\n",
       "    <tr>\n",
       "      <th>4</th>\n",
       "      <td>1348857</td>\n",
       "      <td>2018-11-22</td>\n",
       "      <td>1</td>\n",
       "      <td>1</td>\n",
       "      <td>1</td>\n",
       "    </tr>\n",
       "  </tbody>\n",
       "</table>\n",
       "</div>"
      ],
      "text/plain": [
       "   ID_CONTA  DT_ACORDO  QTD_PARCELAMENTO_3M  QTD_PARCELAMENTO_6M  \\\n",
       "0   1194908 2018-11-22                    0                    0   \n",
       "1   1427566 2018-11-22                    0                    0   \n",
       "2    981592 2018-11-22                    0                    0   \n",
       "3   1329412 2018-11-22                    0                    0   \n",
       "4   1348857 2018-11-22                    1                    1   \n",
       "\n",
       "   QTD_PARCELAMENTO_12M  \n",
       "0                     0  \n",
       "1                     0  \n",
       "2                     1  \n",
       "3                     0  \n",
       "4                     1  "
      ]
     },
     "execution_count": 3,
     "metadata": {},
     "output_type": "execute_result"
    }
   ],
   "source": [
    "path = 'E:\\Backup - Felipe\\Documentos\\FortBrasil\\Case Cientista JR\\Questão 2 - Base 2.txt'\n",
    "df2 = pd.read_csv(path, sep=\"\\t\" )\n",
    "print('Total de Linhas df2: %s' % count_rows(df2))\n",
    "#Altera Tipo da Conluna\n",
    "df2['DT_ACORDO'] = df2['DT_ACORDO'].apply(pd.to_datetime, format='%Y-%m-%d')\n",
    "list(df2.columns)\n",
    "df2.head()"
   ]
  },
  {
   "cell_type": "code",
   "execution_count": 4,
   "metadata": {},
   "outputs": [
    {
     "name": "stdout",
     "output_type": "stream",
     "text": [
      "Total de Linhas df3: 72533\n"
     ]
    },
    {
     "data": {
      "text/plain": [
       "ID_CONTA              int64\n",
       "DT_ACORDO    datetime64[ns]\n",
       "LIMITE              float64\n",
       "dtype: object"
      ]
     },
     "execution_count": 4,
     "metadata": {},
     "output_type": "execute_result"
    }
   ],
   "source": [
    "path = 'E:\\Backup - Felipe\\Documentos\\FortBrasil\\Case Cientista JR\\Questão 2 - Base 3.txt'\n",
    "df3 = pd.read_csv(path, sep=\"\\t\" )\n",
    "print('Total de Linhas df3: %s' % count_rows(df3))\n",
    "#Altera Tipo da Conluna\n",
    "df3['DT_ACORDO'] = df3['DT_ACORDO'].apply(pd.to_datetime, format='%Y-%m-%d')\n",
    "list(df3.columns)\n",
    "df3.dtypes"
   ]
  },
  {
   "cell_type": "code",
   "execution_count": 5,
   "metadata": {},
   "outputs": [
    {
     "name": "stdout",
     "output_type": "stream",
     "text": [
      "Total de Linhas df4: 72533\n"
     ]
    },
    {
     "data": {
      "text/html": [
       "<div>\n",
       "<style scoped>\n",
       "    .dataframe tbody tr th:only-of-type {\n",
       "        vertical-align: middle;\n",
       "    }\n",
       "\n",
       "    .dataframe tbody tr th {\n",
       "        vertical-align: top;\n",
       "    }\n",
       "\n",
       "    .dataframe thead th {\n",
       "        text-align: right;\n",
       "    }\n",
       "</style>\n",
       "<table border=\"1\" class=\"dataframe\">\n",
       "  <thead>\n",
       "    <tr style=\"text-align: right;\">\n",
       "      <th></th>\n",
       "      <th>ID_CONTA</th>\n",
       "      <th>DT_ACORDO</th>\n",
       "      <th>QTD_EXTRATOS</th>\n",
       "      <th>QTD_FX0_GERAL</th>\n",
       "      <th>QTD_FX1_GERAL</th>\n",
       "      <th>QTD_FX2_GERAL</th>\n",
       "      <th>QTD_FX0_3M</th>\n",
       "      <th>QTD_FX0_6M</th>\n",
       "      <th>QTD_FX1_3M</th>\n",
       "      <th>QTD_FX1_6M</th>\n",
       "      <th>QTD_FX2_3M</th>\n",
       "      <th>QTD_FX2_6M</th>\n",
       "    </tr>\n",
       "  </thead>\n",
       "  <tbody>\n",
       "    <tr>\n",
       "      <th>0</th>\n",
       "      <td>1385626</td>\n",
       "      <td>2018-11-22</td>\n",
       "      <td>5</td>\n",
       "      <td>5</td>\n",
       "      <td>0</td>\n",
       "      <td>0</td>\n",
       "      <td>4</td>\n",
       "      <td>6</td>\n",
       "      <td>0</td>\n",
       "      <td>0</td>\n",
       "      <td>0</td>\n",
       "      <td>0</td>\n",
       "    </tr>\n",
       "    <tr>\n",
       "      <th>1</th>\n",
       "      <td>1405852</td>\n",
       "      <td>2018-11-22</td>\n",
       "      <td>3</td>\n",
       "      <td>2</td>\n",
       "      <td>1</td>\n",
       "      <td>0</td>\n",
       "      <td>3</td>\n",
       "      <td>3</td>\n",
       "      <td>1</td>\n",
       "      <td>1</td>\n",
       "      <td>0</td>\n",
       "      <td>0</td>\n",
       "    </tr>\n",
       "    <tr>\n",
       "      <th>2</th>\n",
       "      <td>1163186</td>\n",
       "      <td>2018-11-22</td>\n",
       "      <td>26</td>\n",
       "      <td>23</td>\n",
       "      <td>2</td>\n",
       "      <td>1</td>\n",
       "      <td>4</td>\n",
       "      <td>5</td>\n",
       "      <td>0</td>\n",
       "      <td>1</td>\n",
       "      <td>0</td>\n",
       "      <td>1</td>\n",
       "    </tr>\n",
       "    <tr>\n",
       "      <th>3</th>\n",
       "      <td>1194908</td>\n",
       "      <td>2018-11-22</td>\n",
       "      <td>17</td>\n",
       "      <td>16</td>\n",
       "      <td>1</td>\n",
       "      <td>0</td>\n",
       "      <td>4</td>\n",
       "      <td>7</td>\n",
       "      <td>0</td>\n",
       "      <td>0</td>\n",
       "      <td>0</td>\n",
       "      <td>0</td>\n",
       "    </tr>\n",
       "    <tr>\n",
       "      <th>4</th>\n",
       "      <td>1419680</td>\n",
       "      <td>2018-11-22</td>\n",
       "      <td>2</td>\n",
       "      <td>2</td>\n",
       "      <td>0</td>\n",
       "      <td>0</td>\n",
       "      <td>3</td>\n",
       "      <td>3</td>\n",
       "      <td>0</td>\n",
       "      <td>0</td>\n",
       "      <td>0</td>\n",
       "      <td>0</td>\n",
       "    </tr>\n",
       "  </tbody>\n",
       "</table>\n",
       "</div>"
      ],
      "text/plain": [
       "   ID_CONTA  DT_ACORDO  QTD_EXTRATOS  QTD_FX0_GERAL  QTD_FX1_GERAL  \\\n",
       "0   1385626 2018-11-22             5              5              0   \n",
       "1   1405852 2018-11-22             3              2              1   \n",
       "2   1163186 2018-11-22            26             23              2   \n",
       "3   1194908 2018-11-22            17             16              1   \n",
       "4   1419680 2018-11-22             2              2              0   \n",
       "\n",
       "   QTD_FX2_GERAL  QTD_FX0_3M  QTD_FX0_6M  QTD_FX1_3M  QTD_FX1_6M  QTD_FX2_3M  \\\n",
       "0              0           4           6           0           0           0   \n",
       "1              0           3           3           1           1           0   \n",
       "2              1           4           5           0           1           0   \n",
       "3              0           4           7           0           0           0   \n",
       "4              0           3           3           0           0           0   \n",
       "\n",
       "   QTD_FX2_6M  \n",
       "0           0  \n",
       "1           0  \n",
       "2           1  \n",
       "3           0  \n",
       "4           0  "
      ]
     },
     "execution_count": 5,
     "metadata": {},
     "output_type": "execute_result"
    }
   ],
   "source": [
    "path = 'E:\\Backup - Felipe\\Documentos\\FortBrasil\\Case Cientista JR\\Questão 2 - Base 4.txt'\n",
    "df4 = pd.read_csv(path, sep=\"\\t\" )\n",
    "print('Total de Linhas df4: %s' % count_rows(df4))\n",
    "list(df4.columns)\n",
    "#Altera Tipo da Conluna\n",
    "df4['DT_ACORDO'] = df4['DT_ACORDO'].apply(pd.to_datetime, format='%Y-%m-%d')\n",
    "df4.head()"
   ]
  },
  {
   "cell_type": "code",
   "execution_count": 6,
   "metadata": {},
   "outputs": [],
   "source": [
    "#df4['DT_ACORDO'] = df4['DT_ACORDO'].astype(object)\n",
    "#df4.dtypes\n",
    "#path = 'Case Cientista JR/Questão 2 - Base 2_2.txt'\n",
    "#df4.to_csv(path, index=False, sep=\"\\t\" )"
   ]
  },
  {
   "cell_type": "code",
   "execution_count": 7,
   "metadata": {},
   "outputs": [
    {
     "name": "stdout",
     "output_type": "stream",
     "text": [
      "Total de Linhas df5: 70463\n"
     ]
    },
    {
     "data": {
      "text/plain": [
       "['ID_CONTA',\n",
       " 'DT_ACORDO',\n",
       " 'QTD_CPC_10D',\n",
       " 'QTD_CPC_1M',\n",
       " 'QTD_CPC_3M',\n",
       " 'QTD_CPC_6M',\n",
       " 'QTD_CP_10D',\n",
       " 'QTD_CP_1M',\n",
       " 'QTD_CP_3M',\n",
       " 'QTD_CP_6M',\n",
       " 'QTD_ACIONAMENTO_10D',\n",
       " 'QTD_ACIONAMENTO_1M',\n",
       " 'QTD_ACIONAMENTO_3M',\n",
       " 'QTD_ACIONAMENTO_6M']"
      ]
     },
     "execution_count": 7,
     "metadata": {},
     "output_type": "execute_result"
    }
   ],
   "source": [
    "path = 'E:\\Backup - Felipe\\Documentos\\FortBrasil\\Case Cientista JR\\Questão 2 - Base 5.txt'\n",
    "df5 = pd.read_csv(path, sep=\"\\t\" )\n",
    "print('Total de Linhas df5: %s' % count_rows(df5))\n",
    "#Altera Tipo da Conluna\n",
    "df5['DT_ACORDO'] = df5['DT_ACORDO'].apply(pd.to_datetime, format='%Y-%m-%d')\n",
    "list(df5.columns)"
   ]
  },
  {
   "cell_type": "code",
   "execution_count": 8,
   "metadata": {},
   "outputs": [
    {
     "name": "stdout",
     "output_type": "stream",
     "text": [
      "Total de Linhas df_merged: 72563\n"
     ]
    },
    {
     "data": {
      "text/plain": [
       "['ID_CONTA',\n",
       " 'DT_ACORDO',\n",
       " 'NU_DIAS_ATRASO',\n",
       " 'VALOR_CRELIQ',\n",
       " 'DIVIDA_ATUAL',\n",
       " 'RESPOSTA',\n",
       " 'QTD_PARCELAMENTO_3M',\n",
       " 'QTD_PARCELAMENTO_6M',\n",
       " 'QTD_PARCELAMENTO_12M',\n",
       " 'LIMITE',\n",
       " 'QTD_EXTRATOS',\n",
       " 'QTD_FX0_GERAL',\n",
       " 'QTD_FX1_GERAL',\n",
       " 'QTD_FX2_GERAL',\n",
       " 'QTD_FX0_3M',\n",
       " 'QTD_FX0_6M',\n",
       " 'QTD_FX1_3M',\n",
       " 'QTD_FX1_6M',\n",
       " 'QTD_FX2_3M',\n",
       " 'QTD_FX2_6M',\n",
       " 'QTD_CPC_10D',\n",
       " 'QTD_CPC_1M',\n",
       " 'QTD_CPC_3M',\n",
       " 'QTD_CPC_6M',\n",
       " 'QTD_CP_10D',\n",
       " 'QTD_CP_1M',\n",
       " 'QTD_CP_3M',\n",
       " 'QTD_CP_6M',\n",
       " 'QTD_ACIONAMENTO_10D',\n",
       " 'QTD_ACIONAMENTO_1M',\n",
       " 'QTD_ACIONAMENTO_3M',\n",
       " 'QTD_ACIONAMENTO_6M']"
      ]
     },
     "execution_count": 8,
     "metadata": {},
     "output_type": "execute_result"
    }
   ],
   "source": [
    "from functools import reduce\n",
    "data_frames = [df1, df2, df3, df4, df5]\n",
    "\n",
    "df_merged = reduce(lambda  left,right: pd.merge(left,right, how='left' , left_on=['ID_CONTA', 'DT_ACORDO'], right_on=['ID_CONTA', 'DT_ACORDO']), data_frames)\n",
    "\n",
    "path = 'Case Cientista JR/Questão 2(consolidada).csv'\n",
    "df_merged.to_csv(path, index=False, sep=';' ,encoding='Windows-1252', decimal=',') #sep=';' ,encoding='Windows-1252'\n",
    "\n",
    "print('Total de Linhas df_merged: %s' % count_rows(df_merged))\n",
    "list(df_merged.columns)"
   ]
  },
  {
   "cell_type": "code",
   "execution_count": 9,
   "metadata": {},
   "outputs": [
    {
     "name": "stdout",
     "output_type": "stream",
     "text": [
      "Total de Linhas df_merged: 72532\n"
     ]
    }
   ],
   "source": [
    "df_merged = df_merged.drop_duplicates(subset = ['ID_CONTA', 'DT_ACORDO'], keep = 'last').reset_index(drop = True)\n",
    "print('Total de Linhas df_merged: %s' % count_rows(df_merged))"
   ]
  },
  {
   "cell_type": "code",
   "execution_count": 10,
   "metadata": {},
   "outputs": [
    {
     "name": "stdout",
     "output_type": "stream",
     "text": [
      "<class 'pandas.core.frame.DataFrame'>\n",
      "RangeIndex: 72532 entries, 0 to 72531\n",
      "Data columns (total 32 columns):\n",
      " #   Column                Non-Null Count  Dtype         \n",
      "---  ------                --------------  -----         \n",
      " 0   ID_CONTA              72532 non-null  int64         \n",
      " 1   DT_ACORDO             72532 non-null  datetime64[ns]\n",
      " 2   NU_DIAS_ATRASO        72532 non-null  int64         \n",
      " 3   VALOR_CRELIQ          72532 non-null  float64       \n",
      " 4   DIVIDA_ATUAL          72532 non-null  float64       \n",
      " 5   RESPOSTA              72532 non-null  int64         \n",
      " 6   QTD_PARCELAMENTO_3M   72532 non-null  int64         \n",
      " 7   QTD_PARCELAMENTO_6M   72532 non-null  int64         \n",
      " 8   QTD_PARCELAMENTO_12M  72532 non-null  int64         \n",
      " 9   LIMITE                72532 non-null  float64       \n",
      " 10  QTD_EXTRATOS          72532 non-null  int64         \n",
      " 11  QTD_FX0_GERAL         72532 non-null  int64         \n",
      " 12  QTD_FX1_GERAL         72532 non-null  int64         \n",
      " 13  QTD_FX2_GERAL         72532 non-null  int64         \n",
      " 14  QTD_FX0_3M            72532 non-null  int64         \n",
      " 15  QTD_FX0_6M            72532 non-null  int64         \n",
      " 16  QTD_FX1_3M            72532 non-null  int64         \n",
      " 17  QTD_FX1_6M            72532 non-null  int64         \n",
      " 18  QTD_FX2_3M            72532 non-null  int64         \n",
      " 19  QTD_FX2_6M            72532 non-null  int64         \n",
      " 20  QTD_CPC_10D           70462 non-null  float64       \n",
      " 21  QTD_CPC_1M            70462 non-null  float64       \n",
      " 22  QTD_CPC_3M            70462 non-null  float64       \n",
      " 23  QTD_CPC_6M            70462 non-null  float64       \n",
      " 24  QTD_CP_10D            70462 non-null  float64       \n",
      " 25  QTD_CP_1M             70462 non-null  float64       \n",
      " 26  QTD_CP_3M             70462 non-null  float64       \n",
      " 27  QTD_CP_6M             70462 non-null  float64       \n",
      " 28  QTD_ACIONAMENTO_10D   70462 non-null  float64       \n",
      " 29  QTD_ACIONAMENTO_1M    70462 non-null  float64       \n",
      " 30  QTD_ACIONAMENTO_3M    70462 non-null  float64       \n",
      " 31  QTD_ACIONAMENTO_6M    70462 non-null  float64       \n",
      "dtypes: datetime64[ns](1), float64(15), int64(16)\n",
      "memory usage: 17.7 MB\n"
     ]
    }
   ],
   "source": [
    "df_merged.info()"
   ]
  },
  {
   "cell_type": "code",
   "execution_count": 11,
   "metadata": {},
   "outputs": [
    {
     "data": {
      "text/plain": [
       "ID_CONTA                   0\n",
       "DT_ACORDO                  0\n",
       "NU_DIAS_ATRASO             0\n",
       "VALOR_CRELIQ               0\n",
       "DIVIDA_ATUAL               0\n",
       "RESPOSTA                   0\n",
       "QTD_PARCELAMENTO_3M        0\n",
       "QTD_PARCELAMENTO_6M        0\n",
       "QTD_PARCELAMENTO_12M       0\n",
       "LIMITE                     0\n",
       "QTD_EXTRATOS               0\n",
       "QTD_FX0_GERAL              0\n",
       "QTD_FX1_GERAL              0\n",
       "QTD_FX2_GERAL              0\n",
       "QTD_FX0_3M                 0\n",
       "QTD_FX0_6M                 0\n",
       "QTD_FX1_3M                 0\n",
       "QTD_FX1_6M                 0\n",
       "QTD_FX2_3M                 0\n",
       "QTD_FX2_6M                 0\n",
       "QTD_CPC_10D             2070\n",
       "QTD_CPC_1M              2070\n",
       "QTD_CPC_3M              2070\n",
       "QTD_CPC_6M              2070\n",
       "QTD_CP_10D              2070\n",
       "QTD_CP_1M               2070\n",
       "QTD_CP_3M               2070\n",
       "QTD_CP_6M               2070\n",
       "QTD_ACIONAMENTO_10D     2070\n",
       "QTD_ACIONAMENTO_1M      2070\n",
       "QTD_ACIONAMENTO_3M      2070\n",
       "QTD_ACIONAMENTO_6M      2070\n",
       "dtype: int64"
      ]
     },
     "execution_count": 11,
     "metadata": {},
     "output_type": "execute_result"
    }
   ],
   "source": [
    "df_merged.isnull().sum()"
   ]
  },
  {
   "cell_type": "code",
   "execution_count": 12,
   "metadata": {},
   "outputs": [
    {
     "data": {
      "text/plain": [
       "ID_CONTA                0.000000\n",
       "DT_ACORDO               0.000000\n",
       "NU_DIAS_ATRASO          0.000000\n",
       "VALOR_CRELIQ            0.000000\n",
       "DIVIDA_ATUAL            0.000000\n",
       "RESPOSTA                0.000000\n",
       "QTD_PARCELAMENTO_3M     0.000000\n",
       "QTD_PARCELAMENTO_6M     0.000000\n",
       "QTD_PARCELAMENTO_12M    0.000000\n",
       "LIMITE                  0.000000\n",
       "QTD_EXTRATOS            0.000000\n",
       "QTD_FX0_GERAL           0.000000\n",
       "QTD_FX1_GERAL           0.000000\n",
       "QTD_FX2_GERAL           0.000000\n",
       "QTD_FX0_3M              0.000000\n",
       "QTD_FX0_6M              0.000000\n",
       "QTD_FX1_3M              0.000000\n",
       "QTD_FX1_6M              0.000000\n",
       "QTD_FX2_3M              0.000000\n",
       "QTD_FX2_6M              0.000000\n",
       "QTD_CPC_10D             0.028539\n",
       "QTD_CPC_1M              0.028539\n",
       "QTD_CPC_3M              0.028539\n",
       "QTD_CPC_6M              0.028539\n",
       "QTD_CP_10D              0.028539\n",
       "QTD_CP_1M               0.028539\n",
       "QTD_CP_3M               0.028539\n",
       "QTD_CP_6M               0.028539\n",
       "QTD_ACIONAMENTO_10D     0.028539\n",
       "QTD_ACIONAMENTO_1M      0.028539\n",
       "QTD_ACIONAMENTO_3M      0.028539\n",
       "QTD_ACIONAMENTO_6M      0.028539\n",
       "dtype: float64"
      ]
     },
     "execution_count": 12,
     "metadata": {},
     "output_type": "execute_result"
    }
   ],
   "source": [
    "df_merged.isna().mean()"
   ]
  },
  {
   "cell_type": "code",
   "execution_count": 13,
   "metadata": {},
   "outputs": [],
   "source": [
    "# descartar colunas nas quais mais de 10% dos valores estão ausentes\n",
    "#df_merged.dropna(thresh=len(df_merged)*0.9, axis=1)\n",
    "\n",
    "#substituir os valores de NaN na coluna (X) pela média\n",
    "#df_merged['Age'].fillna(value=df_merged['Age'].mean(), inplace=True)"
   ]
  },
  {
   "cell_type": "markdown",
   "metadata": {},
   "source": [
    "2.1 – Qual o percentual de adesão mensal por faixa de atraso (Histórico)? "
   ]
  },
  {
   "cell_type": "code",
   "execution_count": 14,
   "metadata": {},
   "outputs": [
    {
     "data": {
      "text/plain": [
       "0    >6M\n",
       "1    >6M\n",
       "2    >8M\n",
       "3    >6M\n",
       "4    >8M\n",
       "Name: NU_DIAS_ATRASO_GROUP, dtype: category\n",
       "Categories (5, object): ['>6M' < '>8M' < '>10M' < '>13M' < '>18M']"
      ]
     },
     "execution_count": 14,
     "metadata": {},
     "output_type": "execute_result"
    }
   ],
   "source": [
    "#criar um recurso categórico (FAIXA DE ATRASO) C/ base no quartil \n",
    "import sys\n",
    "\n",
    "df_merged['NU_DIAS_ATRASO_GROUP']=pd.cut(\n",
    "\n",
    "   df_merged['NU_DIAS_ATRASO'],\n",
    "\n",
    "   bins=[180, 244, 310, 399, 539, sys.maxsize],\n",
    "\n",
    "   labels=['>6M', '>8M', '>10M', '>13M', '>18M']\n",
    "\n",
    ")\n",
    "\n",
    "df_merged['NU_DIAS_ATRASO_GROUP'].head()"
   ]
  },
  {
   "cell_type": "code",
   "execution_count": 15,
   "metadata": {},
   "outputs": [],
   "source": [
    "path = 'Case Cientista JR/Questão 2(consolidada).csv'\n",
    "df_merged.to_csv(path, index=False, sep=';' ,encoding='Windows-1252', decimal=',')"
   ]
  },
  {
   "cell_type": "code",
   "execution_count": 16,
   "metadata": {},
   "outputs": [],
   "source": [
    "#Cria Coluna Ano_Mês\n",
    "df_merged['ANO_MES'] = df_merged['DT_ACORDO'].dt.strftime('%Y-%m')\n",
    "#Cria Coluna Mês\n",
    "df_merged['MES'] = df_merged['DT_ACORDO'].dt.strftime('%m')"
   ]
  },
  {
   "cell_type": "code",
   "execution_count": 17,
   "metadata": {},
   "outputs": [],
   "source": [
    "#Cria um agrupamento de dados \n",
    "df_2_1 = df_merged.groupby(['ANO_MES','NU_DIAS_ATRASO_GROUP']).agg(\n",
    "    FAIXA_ATRASO = ('NU_DIAS_ATRASO_GROUP','count')\n",
    "    ).reset_index()"
   ]
  },
  {
   "cell_type": "code",
   "execution_count": 18,
   "metadata": {},
   "outputs": [
    {
     "data": {
      "text/html": [
       "<div>\n",
       "<style scoped>\n",
       "    .dataframe tbody tr th:only-of-type {\n",
       "        vertical-align: middle;\n",
       "    }\n",
       "\n",
       "    .dataframe tbody tr th {\n",
       "        vertical-align: top;\n",
       "    }\n",
       "\n",
       "    .dataframe thead th {\n",
       "        text-align: right;\n",
       "    }\n",
       "</style>\n",
       "<table border=\"1\" class=\"dataframe\">\n",
       "  <thead>\n",
       "    <tr style=\"text-align: right;\">\n",
       "      <th></th>\n",
       "      <th>ANO_MES</th>\n",
       "      <th>NU_DIAS_ATRASO_GROUP</th>\n",
       "      <th>FAIXA_ATRASO</th>\n",
       "      <th>%_FAIXA_ATRASO</th>\n",
       "    </tr>\n",
       "  </thead>\n",
       "  <tbody>\n",
       "    <tr>\n",
       "      <th>0</th>\n",
       "      <td>2018-11</td>\n",
       "      <td>&gt;6M</td>\n",
       "      <td>6922</td>\n",
       "      <td>0.095434</td>\n",
       "    </tr>\n",
       "    <tr>\n",
       "      <th>1</th>\n",
       "      <td>2018-11</td>\n",
       "      <td>&gt;8M</td>\n",
       "      <td>6795</td>\n",
       "      <td>0.093683</td>\n",
       "    </tr>\n",
       "    <tr>\n",
       "      <th>2</th>\n",
       "      <td>2018-11</td>\n",
       "      <td>&gt;10M</td>\n",
       "      <td>4281</td>\n",
       "      <td>0.059022</td>\n",
       "    </tr>\n",
       "    <tr>\n",
       "      <th>3</th>\n",
       "      <td>2018-11</td>\n",
       "      <td>&gt;13M</td>\n",
       "      <td>0</td>\n",
       "      <td>0.000000</td>\n",
       "    </tr>\n",
       "    <tr>\n",
       "      <th>4</th>\n",
       "      <td>2018-11</td>\n",
       "      <td>&gt;18M</td>\n",
       "      <td>0</td>\n",
       "      <td>0.000000</td>\n",
       "    </tr>\n",
       "    <tr>\n",
       "      <th>5</th>\n",
       "      <td>2019-03</td>\n",
       "      <td>&gt;6M</td>\n",
       "      <td>2995</td>\n",
       "      <td>0.041292</td>\n",
       "    </tr>\n",
       "    <tr>\n",
       "      <th>6</th>\n",
       "      <td>2019-03</td>\n",
       "      <td>&gt;8M</td>\n",
       "      <td>3586</td>\n",
       "      <td>0.049440</td>\n",
       "    </tr>\n",
       "    <tr>\n",
       "      <th>7</th>\n",
       "      <td>2019-03</td>\n",
       "      <td>&gt;10M</td>\n",
       "      <td>6530</td>\n",
       "      <td>0.090029</td>\n",
       "    </tr>\n",
       "    <tr>\n",
       "      <th>8</th>\n",
       "      <td>2019-03</td>\n",
       "      <td>&gt;13M</td>\n",
       "      <td>9527</td>\n",
       "      <td>0.131349</td>\n",
       "    </tr>\n",
       "    <tr>\n",
       "      <th>9</th>\n",
       "      <td>2019-03</td>\n",
       "      <td>&gt;18M</td>\n",
       "      <td>0</td>\n",
       "      <td>0.000000</td>\n",
       "    </tr>\n",
       "    <tr>\n",
       "      <th>10</th>\n",
       "      <td>2019-04</td>\n",
       "      <td>&gt;6M</td>\n",
       "      <td>264</td>\n",
       "      <td>0.003640</td>\n",
       "    </tr>\n",
       "    <tr>\n",
       "      <th>11</th>\n",
       "      <td>2019-04</td>\n",
       "      <td>&gt;8M</td>\n",
       "      <td>190</td>\n",
       "      <td>0.002620</td>\n",
       "    </tr>\n",
       "    <tr>\n",
       "      <th>12</th>\n",
       "      <td>2019-04</td>\n",
       "      <td>&gt;10M</td>\n",
       "      <td>214</td>\n",
       "      <td>0.002950</td>\n",
       "    </tr>\n",
       "    <tr>\n",
       "      <th>13</th>\n",
       "      <td>2019-04</td>\n",
       "      <td>&gt;13M</td>\n",
       "      <td>143</td>\n",
       "      <td>0.001972</td>\n",
       "    </tr>\n",
       "    <tr>\n",
       "      <th>14</th>\n",
       "      <td>2019-04</td>\n",
       "      <td>&gt;18M</td>\n",
       "      <td>0</td>\n",
       "      <td>0.000000</td>\n",
       "    </tr>\n",
       "    <tr>\n",
       "      <th>15</th>\n",
       "      <td>2019-06</td>\n",
       "      <td>&gt;6M</td>\n",
       "      <td>7916</td>\n",
       "      <td>0.109138</td>\n",
       "    </tr>\n",
       "    <tr>\n",
       "      <th>16</th>\n",
       "      <td>2019-06</td>\n",
       "      <td>&gt;8M</td>\n",
       "      <td>7330</td>\n",
       "      <td>0.101059</td>\n",
       "    </tr>\n",
       "    <tr>\n",
       "      <th>17</th>\n",
       "      <td>2019-06</td>\n",
       "      <td>&gt;10M</td>\n",
       "      <td>7314</td>\n",
       "      <td>0.100838</td>\n",
       "    </tr>\n",
       "    <tr>\n",
       "      <th>18</th>\n",
       "      <td>2019-06</td>\n",
       "      <td>&gt;13M</td>\n",
       "      <td>8138</td>\n",
       "      <td>0.112199</td>\n",
       "    </tr>\n",
       "    <tr>\n",
       "      <th>19</th>\n",
       "      <td>2019-06</td>\n",
       "      <td>&gt;18M</td>\n",
       "      <td>387</td>\n",
       "      <td>0.005336</td>\n",
       "    </tr>\n",
       "  </tbody>\n",
       "</table>\n",
       "</div>"
      ],
      "text/plain": [
       "    ANO_MES NU_DIAS_ATRASO_GROUP  FAIXA_ATRASO  %_FAIXA_ATRASO\n",
       "0   2018-11                  >6M          6922        0.095434\n",
       "1   2018-11                  >8M          6795        0.093683\n",
       "2   2018-11                 >10M          4281        0.059022\n",
       "3   2018-11                 >13M             0        0.000000\n",
       "4   2018-11                 >18M             0        0.000000\n",
       "5   2019-03                  >6M          2995        0.041292\n",
       "6   2019-03                  >8M          3586        0.049440\n",
       "7   2019-03                 >10M          6530        0.090029\n",
       "8   2019-03                 >13M          9527        0.131349\n",
       "9   2019-03                 >18M             0        0.000000\n",
       "10  2019-04                  >6M           264        0.003640\n",
       "11  2019-04                  >8M           190        0.002620\n",
       "12  2019-04                 >10M           214        0.002950\n",
       "13  2019-04                 >13M           143        0.001972\n",
       "14  2019-04                 >18M             0        0.000000\n",
       "15  2019-06                  >6M          7916        0.109138\n",
       "16  2019-06                  >8M          7330        0.101059\n",
       "17  2019-06                 >10M          7314        0.100838\n",
       "18  2019-06                 >13M          8138        0.112199\n",
       "19  2019-06                 >18M           387        0.005336"
      ]
     },
     "execution_count": 18,
     "metadata": {},
     "output_type": "execute_result"
    }
   ],
   "source": [
    "df_2_1['%_FAIXA_ATRASO']= df_2_1['FAIXA_ATRASO']/df_2_1['FAIXA_ATRASO'].sum()\n",
    "df_2_1.head(20)"
   ]
  },
  {
   "cell_type": "markdown",
   "metadata": {},
   "source": [
    "2.2 – Qual modelo você utilizaria para traçar uma estratégia objetivando o aumento da adesão dos acordos? (Descreva a técnica utilizada)"
   ]
  },
  {
   "cell_type": "markdown",
   "metadata": {},
   "source": [
    "Utiliazaria o Modelo: Random Forest"
   ]
  },
  {
   "cell_type": "markdown",
   "metadata": {},
   "source": [
    "-Random Forest\n",
    "    - Algoritmo de Machine Learning Supervisionado utilizado para Classificação ou regressão\n",
    "    - Combinação da simplicidade das árvores de decisão com a flexibilidade e aleatoriedade para melhorar a precisão\n",
    "    - Dezenas de árvores combinadas para predizer o melhor resultado.\n",
    "    - Aleatoriedade na seleção de atributos ao invés da seleção a partir do cálculo de impureza."
   ]
  },
  {
   "cell_type": "markdown",
   "metadata": {},
   "source": [
    "\n",
    "- criação do bootstrap dataset (A partir do conjunto original .. Selecione um número N de features aleatoriamente)\n",
    "- A partir do subconjunto selecionado é feita a verificação do atributo que melhor separa os dados..\n",
    "- Agora é preciso separar mais 2 atributos a partir dos três resultantes para separar os dados e construir a árvore.\n",
    "- As árvores são construídas considerando apenas os subconjuntos de atributos selecionados.\n",
    "\n",
    "- Passos\n",
    "    1.\tCriação do Bootstraped Dataset\n",
    "    2.\tA cada passo é selecionado um número N de features para montar a arvore.\n",
    "    3.\tDiversas árvores são criadas a partir de subconjuntos diferentes.\n",
    "    4.\tA instância de teste deve percorrer cada árvore da floresta e a classe definida será a mais votada."
   ]
  },
  {
   "cell_type": "markdown",
   "metadata": {},
   "source": [
    "-\tvantagens\n",
    "    -\tMaior robustez\n",
    "    -\tMenos propenso a sofrer Overfitting em comparação com uma única Árvore de Decisão\n",
    "    -\tPermite a descoberta de conhecimento.\n",
    "    -\tPoucos parametros para ajustes."
   ]
  },
  {
   "cell_type": "markdown",
   "metadata": {},
   "source": [
    "-\tDesvantagens\n",
    "    -\tExige um maior poder de processamento.\n",
    "    -\tPode ser lento o processo de classificação de novas amostras."
   ]
  },
  {
   "cell_type": "markdown",
   "metadata": {},
   "source": [
    "2.3 – Quais indicadores e ferramentas você utilizaria para avaliar a performance/aderência desse modelo? (Descreva os indicadores utilizados)"
   ]
  },
  {
   "cell_type": "markdown",
   "metadata": {},
   "source": [
    "a ferramenta sera a própria do biblioteca Scikit Learn (sklearn.metrics)\n",
    "\n",
    "Atraves das métricas: precision | recall | f1-score | support |\n",
    "                      accuracy | macro avg | weighted avg\n",
    "\n",
    "Através da Acurácia (Accuracy/Taxa de Acerto) para assim medir o nível de exatidão dos resultados obtidos. \n",
    "Esta é a métrica mais simples. É basicamente o número de acertos (positivos) divido pelo número total de exemplos. Ela deve ser usada em datasets com a mesma proporção de exemplos para cada classe, e quando as penalidades de acerto e erro para cada classe forem as mesmas.\n",
    "Em problemas com classes desproporcionais, ela causa uma falsa impressão de bom desempenho. Por exemplo, num dataset em que 80% dos exemplos pertençam a uma classe, só de classificar todos os exemplos naquela classe já se atinge uma precisão de 80%, mesmo que todos os exemplos da outra classe estejam classificados incorretamente.\n",
    "\n",
    "\n",
    "E com F1 Score é uma média harmônica entre precisão (que, apesar de ter o mesmo nome, não é a mesma citada acima) e recall. Veja abaixo as definições destes dois termos.\n",
    "Ela é muito boa quando você possui um dataset com classes desproporcionais, e o seu modelo não emite probabilidades. Isso não significa que não possa ser usada com modelos que emitem probabilidades, tudo depende do objetivo de sua tarefa de machine learning.Em geral, quanto maior o F1 score, melhor.\n",
    "\n",
    "Precisão (Precision)\n",
    "Número de exemplos classificados como pertencentes a uma classe, que realmente são daquela classe (positivos verdadeiros), dividido pela soma entre este número, e o número de exemplos classificados nesta classe, mas que pertencem a outras (falsos positivos)."
   ]
  },
  {
   "cell_type": "code",
   "execution_count": null,
   "metadata": {},
   "outputs": [],
   "source": []
  }
 ],
 "metadata": {
  "interpreter": {
   "hash": "8e73ddc47c49358fbf0cfef351e8ba5c9a3c3faa8149aa3a957da06a3e1f0d8f"
  },
  "kernelspec": {
   "display_name": "Python 3.9.6 64-bit",
   "name": "python3"
  },
  "language_info": {
   "codemirror_mode": {
    "name": "ipython",
    "version": 3
   },
   "file_extension": ".py",
   "mimetype": "text/x-python",
   "name": "python",
   "nbconvert_exporter": "python",
   "pygments_lexer": "ipython3",
   "version": "3.9.6"
  },
  "orig_nbformat": 4
 },
 "nbformat": 4,
 "nbformat_minor": 2
}
