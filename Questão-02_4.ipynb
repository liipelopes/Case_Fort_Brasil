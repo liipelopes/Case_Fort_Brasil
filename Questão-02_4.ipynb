{
 "cells": [
  {
   "cell_type": "markdown",
   "metadata": {},
   "source": [
    "Questão 2\n",
    "O ciclo de crédito do cartão Fortbrasil consiste em 3 etapas: Aquisição, Manutenção e Cobrança. \n",
    "O cliente entra em cobrança com 5 dias de atraso, e quando atinge a marca de 65 dias tem o cartão cancelado \n",
    "e então para realizar o pagamento da dívida precisa realizar um acordo. A FortBrasil irá fazer uma nova campanha \n",
    "para aumentar a adesão aos acordos e gostaria de traçar uma estratégia de cobrança utilizando as informações históricas \n",
    "e técnicas de modelagem preditivas. \n",
    "\n",
    "Segue abaixo as definições das variáveis:\n",
    "    ID_CONTA: Identificador da conta;\n",
    "    DT_ACORDO: Data do acordo;\n",
    "    NU_DIAS_ATRASO: Número de dias após o vencimento que esse cliente está sem pagar;\n",
    "    VALOR_CRELIQ: Valor da dívida do cliente quando ele ultrapassa os 65 dias de atraso;\n",
    "    DIVIDA_ATUAL: Dívida atualizada com juros;\n",
    "    RESPOSTA: Se for 1, significa que o cliente aderiu aquele acordo. Ou seja, efetuou o pagamento da entrada. Se for 0, caso contrário.\n",
    "    QTD_PARCELAMENTO_XM: Quantidade de parcelamentos de fatura aderidos X meses antes da fatura que ele deixou de pagar.\n",
    "    LIMITE: Limite total do cliente;\n",
    "    QTD_EXTRATOS: Quantidade de Faturas emitidas;\n",
    "    QTD_FX0: Quantidade de faturas emitidas em dia;\n",
    "    QTD_FX1: Quantidade de faturas emitidas no qual o cliente não pagou a fatura do mês anterior;\n",
    "    QTD_FX2: Quantidade de faturas emitidas no qual o cliente não pagou as duas ultimas faturas anteriores;\n",
    "    QTD_ACIONAMENTO: Quantidade de vezes que ligamos para os clientes para cobrar a sua dívida;\n",
    "    QTD_CP: Quantidade de vezes que a ligação foi atendida, mas não houve contato com o cliente;\n",
    "    QTD_CPC: Quantidade de vezes que o próprio cliente atendeu a ligação de cobrança.\n",
    "    DEFINIÇÃO: Acordo é uma proposta de negociação da dívida por parte da Fortbrasil para clientes que estão com mais de 180 dias de atraso.\n",
    "    Baseado nessas informações, responda:\n"
   ]
  },
  {
   "cell_type": "markdown",
   "metadata": {},
   "source": [
    "    2.2 – Qual modelo você utilizaria para traçar uma estratégia objetivando o aumento da adesão dos acordos? (Descreva a técnica utilizada)\n",
    "    2.3 – Quais indicadores e ferramentas você utilizaria para avaliar a performance/aderência desse modelo? (Descreva os indicadores utilizados)\n",
    "2.4 – Apresente o modelo desenvolvido utilizando a técnica do item (2.2) e as técnicas de avaliação descritas no item (2.3).\n"
   ]
  },
  {
   "cell_type": "markdown",
   "metadata": {},
   "source": [
    "Importação das bibliotecas necessárias"
   ]
  },
  {
   "cell_type": "code",
   "execution_count": 1,
   "metadata": {},
   "outputs": [],
   "source": [
    "from sklearn.tree import export_graphviz\n",
    "from sklearn.ensemble import RandomForestClassifier\n",
    "from sklearn.preprocessing import LabelEncoder\n",
    "import numpy as np\n",
    "import pandas as pd \n",
    "import matplotlib.pyplot as plt\n",
    "import seaborn as sns"
   ]
  },
  {
   "cell_type": "code",
   "execution_count": 2,
   "metadata": {},
   "outputs": [
    {
     "data": {
      "text/html": [
       "<div>\n",
       "<style scoped>\n",
       "    .dataframe tbody tr th:only-of-type {\n",
       "        vertical-align: middle;\n",
       "    }\n",
       "\n",
       "    .dataframe tbody tr th {\n",
       "        vertical-align: top;\n",
       "    }\n",
       "\n",
       "    .dataframe thead th {\n",
       "        text-align: right;\n",
       "    }\n",
       "</style>\n",
       "<table border=\"1\" class=\"dataframe\">\n",
       "  <thead>\n",
       "    <tr style=\"text-align: right;\">\n",
       "      <th></th>\n",
       "      <th>ID_CONTA</th>\n",
       "      <th>DT_ACORDO</th>\n",
       "      <th>NU_DIAS_ATRASO</th>\n",
       "      <th>VALOR_CRELIQ</th>\n",
       "      <th>DIVIDA_ATUAL</th>\n",
       "      <th>RESPOSTA</th>\n",
       "      <th>QTD_PARCELAMENTO_3M</th>\n",
       "      <th>QTD_PARCELAMENTO_6M</th>\n",
       "      <th>QTD_PARCELAMENTO_12M</th>\n",
       "      <th>LIMITE</th>\n",
       "      <th>...</th>\n",
       "      <th>QTD_CPC_6M</th>\n",
       "      <th>QTD_CP_10D</th>\n",
       "      <th>QTD_CP_1M</th>\n",
       "      <th>QTD_CP_3M</th>\n",
       "      <th>QTD_CP_6M</th>\n",
       "      <th>QTD_ACIONAMENTO_10D</th>\n",
       "      <th>QTD_ACIONAMENTO_1M</th>\n",
       "      <th>QTD_ACIONAMENTO_3M</th>\n",
       "      <th>QTD_ACIONAMENTO_6M</th>\n",
       "      <th>NU_DIAS_ATRASO_GROUP</th>\n",
       "    </tr>\n",
       "  </thead>\n",
       "  <tbody>\n",
       "    <tr>\n",
       "      <th>0</th>\n",
       "      <td>1194908</td>\n",
       "      <td>2018-11-22</td>\n",
       "      <td>221</td>\n",
       "      <td>324.38</td>\n",
       "      <td>463.73</td>\n",
       "      <td>0</td>\n",
       "      <td>0</td>\n",
       "      <td>0</td>\n",
       "      <td>0</td>\n",
       "      <td>1820.0</td>\n",
       "      <td>...</td>\n",
       "      <td>0.0</td>\n",
       "      <td>0.0</td>\n",
       "      <td>0.0</td>\n",
       "      <td>0.0</td>\n",
       "      <td>0.0</td>\n",
       "      <td>0.0</td>\n",
       "      <td>0.0</td>\n",
       "      <td>0.0</td>\n",
       "      <td>36.0</td>\n",
       "      <td>&gt;6M</td>\n",
       "    </tr>\n",
       "    <tr>\n",
       "      <th>1</th>\n",
       "      <td>1447997</td>\n",
       "      <td>2018-11-22</td>\n",
       "      <td>191</td>\n",
       "      <td>334.82</td>\n",
       "      <td>451.56</td>\n",
       "      <td>1</td>\n",
       "      <td>0</td>\n",
       "      <td>0</td>\n",
       "      <td>0</td>\n",
       "      <td>449.0</td>\n",
       "      <td>...</td>\n",
       "      <td>4.0</td>\n",
       "      <td>0.0</td>\n",
       "      <td>1.0</td>\n",
       "      <td>2.0</td>\n",
       "      <td>2.0</td>\n",
       "      <td>8.0</td>\n",
       "      <td>11.0</td>\n",
       "      <td>78.0</td>\n",
       "      <td>241.0</td>\n",
       "      <td>&gt;6M</td>\n",
       "    </tr>\n",
       "    <tr>\n",
       "      <th>2</th>\n",
       "      <td>1035415</td>\n",
       "      <td>2018-11-22</td>\n",
       "      <td>252</td>\n",
       "      <td>1682.26</td>\n",
       "      <td>2554.18</td>\n",
       "      <td>0</td>\n",
       "      <td>0</td>\n",
       "      <td>0</td>\n",
       "      <td>0</td>\n",
       "      <td>1208.0</td>\n",
       "      <td>...</td>\n",
       "      <td>0.0</td>\n",
       "      <td>0.0</td>\n",
       "      <td>0.0</td>\n",
       "      <td>0.0</td>\n",
       "      <td>0.0</td>\n",
       "      <td>2.0</td>\n",
       "      <td>3.0</td>\n",
       "      <td>6.0</td>\n",
       "      <td>16.0</td>\n",
       "      <td>&gt;8M</td>\n",
       "    </tr>\n",
       "    <tr>\n",
       "      <th>3</th>\n",
       "      <td>1069434</td>\n",
       "      <td>2018-11-22</td>\n",
       "      <td>231</td>\n",
       "      <td>1625.01</td>\n",
       "      <td>2368.65</td>\n",
       "      <td>0</td>\n",
       "      <td>0</td>\n",
       "      <td>0</td>\n",
       "      <td>0</td>\n",
       "      <td>3499.0</td>\n",
       "      <td>...</td>\n",
       "      <td>0.0</td>\n",
       "      <td>0.0</td>\n",
       "      <td>0.0</td>\n",
       "      <td>0.0</td>\n",
       "      <td>0.0</td>\n",
       "      <td>1.0</td>\n",
       "      <td>1.0</td>\n",
       "      <td>1.0</td>\n",
       "      <td>1.0</td>\n",
       "      <td>&gt;6M</td>\n",
       "    </tr>\n",
       "    <tr>\n",
       "      <th>4</th>\n",
       "      <td>1427566</td>\n",
       "      <td>2018-11-22</td>\n",
       "      <td>270</td>\n",
       "      <td>320.07</td>\n",
       "      <td>503.25</td>\n",
       "      <td>0</td>\n",
       "      <td>0</td>\n",
       "      <td>0</td>\n",
       "      <td>0</td>\n",
       "      <td>270.0</td>\n",
       "      <td>...</td>\n",
       "      <td>0.0</td>\n",
       "      <td>0.0</td>\n",
       "      <td>1.0</td>\n",
       "      <td>1.0</td>\n",
       "      <td>1.0</td>\n",
       "      <td>10.0</td>\n",
       "      <td>13.0</td>\n",
       "      <td>13.0</td>\n",
       "      <td>13.0</td>\n",
       "      <td>&gt;8M</td>\n",
       "    </tr>\n",
       "  </tbody>\n",
       "</table>\n",
       "<p>5 rows × 33 columns</p>\n",
       "</div>"
      ],
      "text/plain": [
       "   ID_CONTA   DT_ACORDO  NU_DIAS_ATRASO  VALOR_CRELIQ  DIVIDA_ATUAL  RESPOSTA  \\\n",
       "0   1194908  2018-11-22             221        324.38        463.73         0   \n",
       "1   1447997  2018-11-22             191        334.82        451.56         1   \n",
       "2   1035415  2018-11-22             252       1682.26       2554.18         0   \n",
       "3   1069434  2018-11-22             231       1625.01       2368.65         0   \n",
       "4   1427566  2018-11-22             270        320.07        503.25         0   \n",
       "\n",
       "   QTD_PARCELAMENTO_3M  QTD_PARCELAMENTO_6M  QTD_PARCELAMENTO_12M  LIMITE  \\\n",
       "0                    0                    0                     0  1820.0   \n",
       "1                    0                    0                     0   449.0   \n",
       "2                    0                    0                     0  1208.0   \n",
       "3                    0                    0                     0  3499.0   \n",
       "4                    0                    0                     0   270.0   \n",
       "\n",
       "   ...  QTD_CPC_6M  QTD_CP_10D  QTD_CP_1M  QTD_CP_3M  QTD_CP_6M  \\\n",
       "0  ...         0.0         0.0        0.0        0.0        0.0   \n",
       "1  ...         4.0         0.0        1.0        2.0        2.0   \n",
       "2  ...         0.0         0.0        0.0        0.0        0.0   \n",
       "3  ...         0.0         0.0        0.0        0.0        0.0   \n",
       "4  ...         0.0         0.0        1.0        1.0        1.0   \n",
       "\n",
       "   QTD_ACIONAMENTO_10D  QTD_ACIONAMENTO_1M  QTD_ACIONAMENTO_3M  \\\n",
       "0                  0.0                 0.0                 0.0   \n",
       "1                  8.0                11.0                78.0   \n",
       "2                  2.0                 3.0                 6.0   \n",
       "3                  1.0                 1.0                 1.0   \n",
       "4                 10.0                13.0                13.0   \n",
       "\n",
       "   QTD_ACIONAMENTO_6M  NU_DIAS_ATRASO_GROUP  \n",
       "0                36.0                   >6M  \n",
       "1               241.0                   >6M  \n",
       "2                16.0                   >8M  \n",
       "3                 1.0                   >6M  \n",
       "4                13.0                   >8M  \n",
       "\n",
       "[5 rows x 33 columns]"
      ]
     },
     "execution_count": 2,
     "metadata": {},
     "output_type": "execute_result"
    }
   ],
   "source": [
    "import pandas as pd\n",
    "path = 'Case Cientista JR/Questão 2(consolidada).csv'\n",
    "adesao_acordos = pd.read_csv(path, sep=';' ,encoding='Windows-1252', decimal=',')\n",
    "adesao_acordos.head()"
   ]
  },
  {
   "cell_type": "code",
   "execution_count": 3,
   "metadata": {},
   "outputs": [
    {
     "data": {
      "text/html": [
       "<div>\n",
       "<style scoped>\n",
       "    .dataframe tbody tr th:only-of-type {\n",
       "        vertical-align: middle;\n",
       "    }\n",
       "\n",
       "    .dataframe tbody tr th {\n",
       "        vertical-align: top;\n",
       "    }\n",
       "\n",
       "    .dataframe thead th {\n",
       "        text-align: right;\n",
       "    }\n",
       "</style>\n",
       "<table border=\"1\" class=\"dataframe\">\n",
       "  <thead>\n",
       "    <tr style=\"text-align: right;\">\n",
       "      <th></th>\n",
       "      <th>ID_CONTA</th>\n",
       "      <th>NU_DIAS_ATRASO</th>\n",
       "      <th>QTD_ACIONAMENTO_6M</th>\n",
       "      <th>QTD_CPC_6M</th>\n",
       "      <th>RESPOSTA</th>\n",
       "    </tr>\n",
       "  </thead>\n",
       "  <tbody>\n",
       "    <tr>\n",
       "      <th>0</th>\n",
       "      <td>1194908</td>\n",
       "      <td>221</td>\n",
       "      <td>36.0</td>\n",
       "      <td>0.0</td>\n",
       "      <td>0</td>\n",
       "    </tr>\n",
       "    <tr>\n",
       "      <th>1</th>\n",
       "      <td>1447997</td>\n",
       "      <td>191</td>\n",
       "      <td>241.0</td>\n",
       "      <td>4.0</td>\n",
       "      <td>1</td>\n",
       "    </tr>\n",
       "    <tr>\n",
       "      <th>2</th>\n",
       "      <td>1035415</td>\n",
       "      <td>252</td>\n",
       "      <td>16.0</td>\n",
       "      <td>0.0</td>\n",
       "      <td>0</td>\n",
       "    </tr>\n",
       "    <tr>\n",
       "      <th>3</th>\n",
       "      <td>1069434</td>\n",
       "      <td>231</td>\n",
       "      <td>1.0</td>\n",
       "      <td>0.0</td>\n",
       "      <td>0</td>\n",
       "    </tr>\n",
       "    <tr>\n",
       "      <th>4</th>\n",
       "      <td>1427566</td>\n",
       "      <td>270</td>\n",
       "      <td>13.0</td>\n",
       "      <td>0.0</td>\n",
       "      <td>0</td>\n",
       "    </tr>\n",
       "  </tbody>\n",
       "</table>\n",
       "</div>"
      ],
      "text/plain": [
       "   ID_CONTA  NU_DIAS_ATRASO  QTD_ACIONAMENTO_6M  QTD_CPC_6M  RESPOSTA\n",
       "0   1194908             221                36.0         0.0         0\n",
       "1   1447997             191               241.0         4.0         1\n",
       "2   1035415             252                16.0         0.0         0\n",
       "3   1069434             231                 1.0         0.0         0\n",
       "4   1427566             270                13.0         0.0         0"
      ]
     },
     "execution_count": 3,
     "metadata": {},
     "output_type": "execute_result"
    }
   ],
   "source": [
    "#adesao_acordos = adesao_acordos[[\"ID_CONTA\",\"NU_DIAS_ATRASO\", \"DIVIDA_ATUAL\", \"QTD_PARCELAMENTO_6M\", \"QTD_FX0_GERAL\",\"QTD_ACIONAMENTO_6M\",\"QTD_CPC_6M\"]]\n",
    "adesao_acordos = adesao_acordos[[\"ID_CONTA\",\"NU_DIAS_ATRASO\",\"QTD_ACIONAMENTO_6M\",\"QTD_CPC_6M\",\"RESPOSTA\"]]\n",
    "adesao_acordos.head()\n"
   ]
  },
  {
   "cell_type": "code",
   "execution_count": 4,
   "metadata": {},
   "outputs": [
    {
     "name": "stdout",
     "output_type": "stream",
     "text": [
      "<class 'pandas.core.frame.DataFrame'>\n",
      "RangeIndex: 72532 entries, 0 to 72531\n",
      "Data columns (total 5 columns):\n",
      " #   Column              Non-Null Count  Dtype  \n",
      "---  ------              --------------  -----  \n",
      " 0   ID_CONTA            72532 non-null  int64  \n",
      " 1   NU_DIAS_ATRASO      72532 non-null  int64  \n",
      " 2   QTD_ACIONAMENTO_6M  70462 non-null  float64\n",
      " 3   QTD_CPC_6M          70462 non-null  float64\n",
      " 4   RESPOSTA            72532 non-null  int64  \n",
      "dtypes: float64(2), int64(3)\n",
      "memory usage: 2.8 MB\n"
     ]
    }
   ],
   "source": [
    "adesao_acordos.info()"
   ]
  },
  {
   "cell_type": "code",
   "execution_count": 5,
   "metadata": {},
   "outputs": [
    {
     "name": "stdout",
     "output_type": "stream",
     "text": [
      "<class 'pandas.core.frame.DataFrame'>\n",
      "RangeIndex: 72532 entries, 0 to 72531\n",
      "Data columns (total 5 columns):\n",
      " #   Column              Non-Null Count  Dtype \n",
      "---  ------              --------------  ----- \n",
      " 0   ID_CONTA            72532 non-null  object\n",
      " 1   NU_DIAS_ATRASO      72532 non-null  int64 \n",
      " 2   QTD_ACIONAMENTO_6M  72532 non-null  int32 \n",
      " 3   QTD_CPC_6M          72532 non-null  int32 \n",
      " 4   RESPOSTA            72532 non-null  int64 \n",
      "dtypes: int32(2), int64(2), object(1)\n",
      "memory usage: 2.2+ MB\n"
     ]
    }
   ],
   "source": [
    "#Converte a tipagem das features\n",
    "adesao_acordos['ID_CONTA'] = adesao_acordos['ID_CONTA'].astype(int).astype(str)\n",
    "#adesao_acordos[['QTD_ACIONAMENTO_6M','QTD_CPC_6M']] = adesao_acordos[['QTD_ACIONAMENTO_6M','QTD_CPC_6M']].astype(float).astype(int)\n",
    "adesao_acordos[['QTD_ACIONAMENTO_6M','QTD_CPC_6M']] = adesao_acordos[['QTD_ACIONAMENTO_6M','QTD_CPC_6M']].fillna(0.0).astype(int)\n",
    "adesao_acordos.info()"
   ]
  },
  {
   "cell_type": "code",
   "execution_count": 6,
   "metadata": {},
   "outputs": [
    {
     "name": "stdout",
     "output_type": "stream",
     "text": [
      "<class 'pandas.core.frame.DataFrame'>\n",
      "Int64Index: 72532 entries, 0 to 72531\n",
      "Data columns (total 5 columns):\n",
      " #   Column              Non-Null Count  Dtype \n",
      "---  ------              --------------  ----- \n",
      " 0   ID_CONTA            72532 non-null  object\n",
      " 1   NU_DIAS_ATRASO      72532 non-null  int64 \n",
      " 2   QTD_ACIONAMENTO_6M  72532 non-null  int32 \n",
      " 3   QTD_CPC_6M          72532 non-null  int32 \n",
      " 4   RESPOSTA            72532 non-null  int64 \n",
      "dtypes: int32(2), int64(2), object(1)\n",
      "memory usage: 2.8+ MB\n"
     ]
    }
   ],
   "source": [
    "# descartar (Linhas axis=0)|(colunas axis=1) nas quais mais de 10% dos valores estão ausentes\n",
    "#adesao_acordos_teste = adesao_acordos.dropna(thresh=len(adesao_acordos)*0.9, axis=0)\n",
    "adesao_acordos = adesao_acordos.dropna(axis = 0)\n",
    "adesao_acordos.info()"
   ]
  },
  {
   "cell_type": "code",
   "execution_count": 7,
   "metadata": {},
   "outputs": [
    {
     "data": {
      "text/html": [
       "<div>\n",
       "<style scoped>\n",
       "    .dataframe tbody tr th:only-of-type {\n",
       "        vertical-align: middle;\n",
       "    }\n",
       "\n",
       "    .dataframe tbody tr th {\n",
       "        vertical-align: top;\n",
       "    }\n",
       "\n",
       "    .dataframe thead th {\n",
       "        text-align: right;\n",
       "    }\n",
       "</style>\n",
       "<table border=\"1\" class=\"dataframe\">\n",
       "  <thead>\n",
       "    <tr style=\"text-align: right;\">\n",
       "      <th></th>\n",
       "      <th>ID_CONTA</th>\n",
       "      <th>NU_DIAS_ATRASO</th>\n",
       "      <th>QTD_ACIONAMENTO_6M</th>\n",
       "      <th>QTD_CPC_6M</th>\n",
       "      <th>RESPOSTA</th>\n",
       "    </tr>\n",
       "  </thead>\n",
       "  <tbody>\n",
       "    <tr>\n",
       "      <th>0</th>\n",
       "      <td>1194908</td>\n",
       "      <td>221</td>\n",
       "      <td>36</td>\n",
       "      <td>0</td>\n",
       "      <td>0</td>\n",
       "    </tr>\n",
       "    <tr>\n",
       "      <th>1</th>\n",
       "      <td>1447997</td>\n",
       "      <td>191</td>\n",
       "      <td>241</td>\n",
       "      <td>4</td>\n",
       "      <td>1</td>\n",
       "    </tr>\n",
       "    <tr>\n",
       "      <th>2</th>\n",
       "      <td>1035415</td>\n",
       "      <td>252</td>\n",
       "      <td>16</td>\n",
       "      <td>0</td>\n",
       "      <td>0</td>\n",
       "    </tr>\n",
       "    <tr>\n",
       "      <th>3</th>\n",
       "      <td>1069434</td>\n",
       "      <td>231</td>\n",
       "      <td>1</td>\n",
       "      <td>0</td>\n",
       "      <td>0</td>\n",
       "    </tr>\n",
       "    <tr>\n",
       "      <th>4</th>\n",
       "      <td>1427566</td>\n",
       "      <td>270</td>\n",
       "      <td>13</td>\n",
       "      <td>0</td>\n",
       "      <td>0</td>\n",
       "    </tr>\n",
       "  </tbody>\n",
       "</table>\n",
       "</div>"
      ],
      "text/plain": [
       "  ID_CONTA  NU_DIAS_ATRASO  QTD_ACIONAMENTO_6M  QTD_CPC_6M  RESPOSTA\n",
       "0  1194908             221                  36           0         0\n",
       "1  1447997             191                 241           4         1\n",
       "2  1035415             252                  16           0         0\n",
       "3  1069434             231                   1           0         0\n",
       "4  1427566             270                  13           0         0"
      ]
     },
     "execution_count": 7,
     "metadata": {},
     "output_type": "execute_result"
    }
   ],
   "source": [
    "adesao_acordos.head()"
   ]
  },
  {
   "cell_type": "code",
   "execution_count": 8,
   "metadata": {},
   "outputs": [],
   "source": [
    "X = adesao_acordos[[\"NU_DIAS_ATRASO\",\"QTD_ACIONAMENTO_6M\",\"QTD_CPC_6M\"]].values\n",
    "y = adesao_acordos[\"RESPOSTA\"].values"
   ]
  },
  {
   "cell_type": "markdown",
   "metadata": {},
   "source": [
    "Passo 2 - Separar dados de treino e dados de teste"
   ]
  },
  {
   "cell_type": "code",
   "execution_count": 14,
   "metadata": {},
   "outputs": [],
   "source": [
    "from sklearn.model_selection import train_test_split\n",
    "\n",
    "X_train, X_test, y_train, y_test = train_test_split(X, y, test_size=0.2 )#,train_size=0.4"
   ]
  },
  {
   "cell_type": "markdown",
   "metadata": {
    "id": "9NG8GAQ06YLS"
   },
   "source": [
    "Passo 3 - Treinamos nossa Random Forest"
   ]
  },
  {
   "cell_type": "code",
   "execution_count": 15,
   "metadata": {
    "id": "84mSZFTO6dgS"
   },
   "outputs": [],
   "source": [
    "from sklearn.ensemble import RandomForestClassifier\n",
    "\n",
    "random_forest_clf = RandomForestClassifier()\n",
    "random_forest_clf.fit(X_train, y_train)\n",
    "\n",
    "y_pred = random_forest_clf.predict(X_test)"
   ]
  },
  {
   "cell_type": "markdown",
   "metadata": {
    "id": "i0Sc-tb7606L"
   },
   "source": [
    "Passo 4 - Verificamos a matriz de confusão e as métricas do nosso modelo\n"
   ]
  },
  {
   "cell_type": "code",
   "execution_count": 17,
   "metadata": {
    "colab": {
     "base_uri": "https://localhost:8080/",
     "height": 204
    },
    "id": "BVLVZnpP61PK",
    "outputId": "325cc329-aa67-40cb-ca91-072958403af1"
   },
   "outputs": [
    {
     "name": "stdout",
     "output_type": "stream",
     "text": [
      "4 111 13968 424\n",
      "              precision    recall  f1-score   support\n",
      "\n",
      "           0       0.97      0.99      0.98     14079\n",
      "           1       0.03      0.01      0.01       428\n",
      "\n",
      "    accuracy                           0.96     14507\n",
      "   macro avg       0.50      0.50      0.50     14507\n",
      "weighted avg       0.94      0.96      0.95     14507\n",
      "\n",
      "0.9631212518094713\n"
     ]
    }
   ],
   "source": [
    "from sklearn.metrics import classification_report, accuracy_score, confusion_matrix\n",
    "\n",
    "tn, fp, fn, tp = confusion_matrix(y_test,y_pred).ravel()\n",
    "#returned = confusion_matrix(y_test, y_pred).ravel()\n",
    "#if len(returned) == 4:\n",
    "#    tn, fp, fn, tp = returned\n",
    "\n",
    "print(tp, fp, tn, fn)\n",
    "print(classification_report(y_test,y_pred))\n",
    "print(accuracy_score(y_test, y_pred))"
   ]
  }
 ],
 "metadata": {
  "interpreter": {
   "hash": "8e73ddc47c49358fbf0cfef351e8ba5c9a3c3faa8149aa3a957da06a3e1f0d8f"
  },
  "kernelspec": {
   "display_name": "Python 3.9.6 64-bit",
   "name": "python3"
  },
  "language_info": {
   "codemirror_mode": {
    "name": "ipython",
    "version": 3
   },
   "file_extension": ".py",
   "mimetype": "text/x-python",
   "name": "python",
   "nbconvert_exporter": "python",
   "pygments_lexer": "ipython3",
   "version": "3.9.6"
  },
  "orig_nbformat": 4
 },
 "nbformat": 4,
 "nbformat_minor": 2
}
